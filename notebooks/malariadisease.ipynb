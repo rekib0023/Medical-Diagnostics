{
  "nbformat": 4,
  "nbformat_minor": 0,
  "metadata": {
    "colab": {
      "name": "Malaria-Detection.ipynb",
      "provenance": [],
      "collapsed_sections": []
    },
    "kernelspec": {
      "name": "python3",
      "display_name": "Python 3"
    },
    "accelerator": "GPU"
  },
  "cells": [
    {
      "cell_type": "code",
      "metadata": {
        "id": "zDgfngt7Rbfc",
        "colab_type": "code",
        "colab": {}
      },
      "source": [
        "import numpy as np\n",
        "import pandas as pd\n",
        "import matplotlib.pyplot as plt\n",
        "from PIL import Image\n",
        "\n",
        "import os"
      ],
      "execution_count": 1,
      "outputs": []
    },
    {
      "cell_type": "code",
      "metadata": {
        "id": "amy2GoixStE5",
        "colab_type": "code",
        "colab": {
          "base_uri": "https://localhost:8080/",
          "height": 36
        },
        "outputId": "cfd04776-30d4-4d52-c3a7-0fa055bb160d"
      },
      "source": [
        "# keras libraries\n",
        "from tensorflow import keras\n",
        "from keras.applications.vgg16 import VGG16\n",
        "from keras.applications.vgg16 import preprocess_input\n",
        "from keras.models import Model, Sequential\n",
        "from keras.layers import Input, Flatten, Dense, Dropout, BatchNormalization, Conv2D, MaxPooling2D\n",
        "from keras.optimizers import SGD\n",
        "from keras.preprocessing import image\n",
        "from keras.preprocessing.image import ImageDataGenerator, load_img\n",
        "from tensorflow.keras.callbacks import EarlyStopping\n",
        "\n",
        "from sklearn.metrics import classification_report, confusion_matrix"
      ],
      "execution_count": 2,
      "outputs": [
        {
          "output_type": "stream",
          "text": [
            "Using TensorFlow backend.\n"
          ],
          "name": "stderr"
        }
      ]
    },
    {
      "cell_type": "code",
      "metadata": {
        "id": "yp4tVMq4Styg",
        "colab_type": "code",
        "colab": {}
      },
      "source": [
        "import zipfile\n",
        "\n",
        "zip_ref = zipfile.ZipFile('/content/drive/My Drive/Datasets/original(2).zip', 'r')\n",
        "zip_ref.extractall(\"/tmp\")\n",
        "zip_ref.close()"
      ],
      "execution_count": 3,
      "outputs": []
    },
    {
      "cell_type": "code",
      "metadata": {
        "id": "7qtFDUMRTKbx",
        "colab_type": "code",
        "colab": {}
      },
      "source": [
        "train_dir = \"/tmp/cell_images/train/\"\n",
        "val_dir = \"/tmp/cell_images/valid/\""
      ],
      "execution_count": 4,
      "outputs": []
    },
    {
      "cell_type": "code",
      "metadata": {
        "id": "cUqFUhZqVC2G",
        "colab_type": "code",
        "colab": {
          "base_uri": "https://localhost:8080/",
          "height": 337
        },
        "outputId": "b2ec2c8b-d06a-473f-99d5-ebfa6b85ad21"
      },
      "source": [
        "# infected pic\n",
        "rand_norm = np.random.randint(0, len(os.listdir(train_dir+\"Parasitized/\")))\n",
        "infected_pic = os.listdir(train_dir+\"Parasitized/\")[rand_norm]\n",
        "infected_pic_address = train_dir+\"Parasitized/\"+infected_pic\n",
        "\n",
        "# uninfected pic\n",
        "rand_norm = np.random.randint(0, len(os.listdir(train_dir+\"Uninfected/\")))\n",
        "uninfected_pic = os.listdir(train_dir+\"Uninfected/\")[rand_norm]\n",
        "uninfected_pic_address = train_dir+\"Uninfected/\"+uninfected_pic\n",
        "\n",
        "# load the images\n",
        "infected_load = Image.open(infected_pic_address)\n",
        "uninfected_load = Image.open(uninfected_pic_address)\n",
        "\n",
        "# plot\n",
        "f = plt.figure(figsize= (10,6))\n",
        "a1 = f.add_subplot(1,2,1)\n",
        "img_plot = plt.imshow(infected_load, cmap='gray')\n",
        "a1.set_title('Infected')\n",
        "\n",
        "a2 = f.add_subplot(1, 2, 2)\n",
        "img_plot = plt.imshow(uninfected_load, cmap='gray')\n",
        "a2.set_title('Uninfected')"
      ],
      "execution_count": 5,
      "outputs": [
        {
          "output_type": "execute_result",
          "data": {
            "text/plain": [
              "Text(0.5, 1.0, 'Uninfected')"
            ]
          },
          "metadata": {
            "tags": []
          },
          "execution_count": 5
        },
        {
          "output_type": "display_data",
          "data": {
            "image/png": "[encoded data removed]",
            "text/plain": [
              "<Figure size 720x432 with 2 Axes>"
            ]
          },
          "metadata": {
            "tags": [],
            "needs_background": "light"
          }
        }
      ]
    },
    {
      "cell_type": "code",
      "metadata": {
        "id": "Lcuqtf33VNsk",
        "colab_type": "code",
        "colab": {}
      },
      "source": [
        "width = 100\n",
        "height = 100"
      ],
      "execution_count": 6,
      "outputs": []
    },
    {
      "cell_type": "code",
      "metadata": {
        "id": "jUyIvwLaVj_x",
        "colab_type": "code",
        "colab": {
          "base_uri": "https://localhost:8080/",
          "height": 55
        },
        "outputId": "c526df01-c5ca-4037-f6c0-5bcf5b827300"
      },
      "source": [
        "# loading the images\n",
        "train_datagen = ImageDataGenerator(rescale=1./255,\n",
        "                            rotation_range=30,\n",
        "                            zoom_range=0.15,\n",
        "                            horizontal_flip=True,\n",
        "                            fill_mode=\"nearest\")\n",
        "\n",
        "valid_datagen = ImageDataGenerator(rescale=1./255)\n",
        "\n",
        "\n",
        "training_set = train_datagen.flow_from_directory(directory=train_dir,\n",
        "                                           target_size=(width,height),\n",
        "                                           shuffle=True,\n",
        "                                           class_mode = 'categorical',\n",
        "                                           batch_size = 32)\n",
        "\n",
        "validation_set = valid_datagen.flow_from_directory(directory=val_dir,\n",
        "                                           target_size=(width,height),\n",
        "                                           class_mode = 'categorical',\n",
        "                                           batch_size = 32)"
      ],
      "execution_count": 7,
      "outputs": [
        {
          "output_type": "stream",
          "text": [
            "Found 22046 images belonging to 2 classes.\n",
            "Found 5512 images belonging to 2 classes.\n"
          ],
          "name": "stdout"
        }
      ]
    },
    {
      "cell_type": "code",
      "metadata": {
        "id": "4rWBYWpqg57m",
        "colab_type": "code",
        "colab": {}
      },
      "source": [
        "# ? ImageDataGenerator.flow_from_directory"
      ],
      "execution_count": 8,
      "outputs": []
    },
    {
      "cell_type": "code",
      "metadata": {
        "id": "h3_C2vsLV0tr",
        "colab_type": "code",
        "colab": {
          "base_uri": "https://localhost:8080/",
          "height": 581
        },
        "outputId": "bfc4404b-67d7-474e-b375-588d13e424c4"
      },
      "source": [
        "### Create Model from scratch using CNN\n",
        "model=Sequential()\n",
        "model.add(Conv2D(filters=256,kernel_size=2,padding=\"same\",activation=\"relu\",input_shape=(width,height,3)))\n",
        "model.add(MaxPooling2D(pool_size=2))\n",
        "model.add(Dropout(0.2))\n",
        "model.add(Conv2D(filters=128,kernel_size=2,padding=\"same\",activation =\"relu\"))\n",
        "model.add(MaxPooling2D(pool_size=2))\n",
        "model.add(Conv2D(filters=64,kernel_size=2,padding=\"same\",activation=\"relu\"))\n",
        "model.add(MaxPooling2D(pool_size=2))\n",
        "model.add(Conv2D(filters=64,kernel_size=2,padding=\"same\",activation=\"relu\"))\n",
        "model.add(MaxPooling2D(pool_size=2))\n",
        "model.add(Flatten())\n",
        "model.add(Dense(2,activation=\"softmax\"))\n",
        "model.summary()"
      ],
      "execution_count": 9,
      "outputs": [
        {
          "output_type": "stream",
          "text": [
            "Model: \"sequential_1\"\n",
            "_________________________________________________________________\n",
            "Layer (type)                 Output Shape              Param #   \n",
            "=================================================================\n",
            "conv2d_1 (Conv2D)            (None, 100, 100, 256)     3328      \n",
            "_________________________________________________________________\n",
            "max_pooling2d_1 (MaxPooling2 (None, 50, 50, 256)       0         \n",
            "_________________________________________________________________\n",
            "dropout_1 (Dropout)          (None, 50, 50, 256)       0         \n",
            "_________________________________________________________________\n",
            "conv2d_2 (Conv2D)            (None, 50, 50, 128)       131200    \n",
            "_________________________________________________________________\n",
            "max_pooling2d_2 (MaxPooling2 (None, 25, 25, 128)       0         \n",
            "_________________________________________________________________\n",
            "conv2d_3 (Conv2D)            (None, 25, 25, 64)        32832     \n",
            "_________________________________________________________________\n",
            "max_pooling2d_3 (MaxPooling2 (None, 12, 12, 64)        0         \n",
            "_________________________________________________________________\n",
            "conv2d_4 (Conv2D)            (None, 12, 12, 64)        16448     \n",
            "_________________________________________________________________\n",
            "max_pooling2d_4 (MaxPooling2 (None, 6, 6, 64)          0         \n",
            "_________________________________________________________________\n",
            "flatten_1 (Flatten)          (None, 2304)              0         \n",
            "_________________________________________________________________\n",
            "dense_1 (Dense)              (None, 2)                 4610      \n",
            "=================================================================\n",
            "Total params: 188,418\n",
            "Trainable params: 188,418\n",
            "Non-trainable params: 0\n",
            "_________________________________________________________________\n"
          ],
          "name": "stdout"
        }
      ]
    },
    {
      "cell_type": "code",
      "metadata": {
        "id": "T67pRmiKWB2Q",
        "colab_type": "code",
        "colab": {}
      },
      "source": [
        "model.compile(optimizer='adam',\n",
        "              loss='categorical_crossentropy',\n",
        "              metrics=['accuracy'])"
      ],
      "execution_count": 10,
      "outputs": []
    },
    {
      "cell_type": "code",
      "metadata": {
        "id": "9DRZ86Bu-TwL",
        "colab_type": "code",
        "colab": {}
      },
      "source": [
        "early_stop = EarlyStopping(monitor='val_loss',patience=2)"
      ],
      "execution_count": 11,
      "outputs": []
    },
    {
      "cell_type": "code",
      "metadata": {
        "id": "KcS-a-qZWEU5",
        "colab_type": "code",
        "colab": {
          "base_uri": "https://localhost:8080/",
          "height": 300
        },
        "outputId": "f5a374af-9309-4274-fb21-01a0df6f29e5"
      },
      "source": [
        "history = model.fit_generator(generator=training_set,\n",
        "                             steps_per_epoch=len(training_set),\n",
        "                              epochs=10,\n",
        "                              validation_data=validation_set,\n",
        "                              validation_steps=len(validation_set),\n",
        "                              callbacks=[early_stop])"
      ],
      "execution_count": 12,
      "outputs": [
        {
          "output_type": "stream",
          "text": [
            "Epoch 1/10\n",
            "689/689 [==============================] - 72s 105ms/step - loss: 0.6823 - accuracy: 0.5518 - val_loss: 0.3365 - val_accuracy: 0.7622\n",
            "Epoch 2/10\n",
            "689/689 [==============================] - 68s 99ms/step - loss: 0.2583 - accuracy: 0.9031 - val_loss: 0.1630 - val_accuracy: 0.9447\n",
            "Epoch 3/10\n",
            "689/689 [==============================] - 68s 99ms/step - loss: 0.1821 - accuracy: 0.9378 - val_loss: 0.1034 - val_accuracy: 0.9421\n",
            "Epoch 4/10\n",
            "689/689 [==============================] - 69s 99ms/step - loss: 0.1736 - accuracy: 0.9412 - val_loss: 0.1405 - val_accuracy: 0.9483\n",
            "Epoch 5/10\n",
            "689/689 [==============================] - 68s 99ms/step - loss: 0.1732 - accuracy: 0.9412 - val_loss: 0.0311 - val_accuracy: 0.9510\n",
            "Epoch 6/10\n",
            "689/689 [==============================] - 69s 100ms/step - loss: 0.1682 - accuracy: 0.9422 - val_loss: 0.0487 - val_accuracy: 0.9487\n",
            "Epoch 7/10\n",
            "689/689 [==============================] - 69s 100ms/step - loss: 0.1646 - accuracy: 0.9444 - val_loss: 0.0949 - val_accuracy: 0.9501\n"
          ],
          "name": "stdout"
        }
      ]
    },
    {
      "cell_type": "code",
      "metadata": {
        "id": "bUnhyCM5WLFE",
        "colab_type": "code",
        "colab": {
          "base_uri": "https://localhost:8080/",
          "height": 573
        },
        "outputId": "eaacff15-4736-4676-f831-4bf75e67d51c"
      },
      "source": [
        "def plotLearningCurve(history,epochs=20):\n",
        "    epochRange = range(1,epochs+1)\n",
        "    plt.plot(epochRange,history.history['accuracy'])\n",
        "    plt.plot(epochRange,history.history['val_accuracy'])\n",
        "    plt.title('Model Accuracy')\n",
        "    plt.xlabel('Epoch')\n",
        "    plt.ylabel('Accuracy')\n",
        "    plt.legend(['Train','Validation'],loc='upper left')\n",
        "    plt.show()\n",
        "\n",
        "    plt.plot(epochRange,history.history['loss'])\n",
        "    plt.plot(epochRange,history.history['val_loss'])\n",
        "    plt.title('Model Loss')\n",
        "    plt.xlabel('Epoch')\n",
        "    plt.ylabel('Loss')\n",
        "    plt.legend(['Train','Validation'],loc='upper left')\n",
        "    plt.show()\n",
        "\n",
        "plotLearningCurve(history, epochs=len(history.history['accuracy']))"
      ],
      "execution_count": 13,
      "outputs": [
        {
          "output_type": "display_data",
          "data": {
            "image/png": "[encoded data removed]",
            "text/plain": [
              "<Figure size 432x288 with 1 Axes>"
            ]
          },
          "metadata": {
            "tags": [],
            "needs_background": "light"
          }
        },
        {
          "output_type": "display_data",
          "data": {
            "image/png": "[encoded data removed]",
            "text/plain": [
              "<Figure size 432x288 with 1 Axes>"
            ]
          },
          "metadata": {
            "tags": [],
            "needs_background": "light"
          }
        }
      ]
    },
    {
      "cell_type": "code",
      "metadata": {
        "id": "U_XvHSd7Cx_z",
        "colab_type": "code",
        "colab": {}
      },
      "source": [
        " model.save('malaria_model.h5')"
      ],
      "execution_count": 14,
      "outputs": []
    },
    {
      "cell_type": "code",
      "metadata": {
        "id": "OvUqNjhemUME",
        "colab_type": "code",
        "colab": {}
      },
      "source": [
        "# ? image.load_img"
      ],
      "execution_count": 15,
      "outputs": []
    },
    {
      "cell_type": "code",
      "metadata": {
        "id": "a4BMsu8mXSJo",
        "colab_type": "code",
        "colab": {}
      },
      "source": [
        "img=image.load_img('/tmp/cell_images/valid/Parasitized/ParasitizedC100P61ThinF_IMG_20150918_144104_cell_165.png',\n",
        "                   target_size=(width,height))"
      ],
      "execution_count": 16,
      "outputs": []
    },
    {
      "cell_type": "code",
      "metadata": {
        "id": "yl34mtSJCTuL",
        "colab_type": "code",
        "colab": {
          "base_uri": "https://localhost:8080/",
          "height": 938
        },
        "outputId": "b01734db-c713-420b-a52d-5c21ce75f58e"
      },
      "source": [
        "x=image.img_to_array(img)\n",
        "x"
      ],
      "execution_count": 17,
      "outputs": [
        {
          "output_type": "execute_result",
          "data": {
            "text/plain": [
              "array([[[0., 0., 0.],\n",
              "        [0., 0., 0.],\n",
              "        [0., 0., 0.],\n",
              "        ...,\n",
              "        [0., 0., 0.],\n",
              "        [0., 0., 0.],\n",
              "        [0., 0., 0.]],\n",
              "\n",
              "       [[0., 0., 0.],\n",
              "        [0., 0., 0.],\n",
              "        [0., 0., 0.],\n",
              "        ...,\n",
              "        [0., 0., 0.],\n",
              "        [0., 0., 0.],\n",
              "        [0., 0., 0.]],\n",
              "\n",
              "       [[0., 0., 0.],\n",
              "        [0., 0., 0.],\n",
              "        [0., 0., 0.],\n",
              "        ...,\n",
              "        [0., 0., 0.],\n",
              "        [0., 0., 0.],\n",
              "        [0., 0., 0.]],\n",
              "\n",
              "       ...,\n",
              "\n",
              "       [[0., 0., 0.],\n",
              "        [0., 0., 0.],\n",
              "        [0., 0., 0.],\n",
              "        ...,\n",
              "        [0., 0., 0.],\n",
              "        [0., 0., 0.],\n",
              "        [0., 0., 0.]],\n",
              "\n",
              "       [[0., 0., 0.],\n",
              "        [0., 0., 0.],\n",
              "        [0., 0., 0.],\n",
              "        ...,\n",
              "        [0., 0., 0.],\n",
              "        [0., 0., 0.],\n",
              "        [0., 0., 0.]],\n",
              "\n",
              "       [[0., 0., 0.],\n",
              "        [0., 0., 0.],\n",
              "        [0., 0., 0.],\n",
              "        ...,\n",
              "        [0., 0., 0.],\n",
              "        [0., 0., 0.],\n",
              "        [0., 0., 0.]]], dtype=float32)"
            ]
          },
          "metadata": {
            "tags": []
          },
          "execution_count": 17
        }
      ]
    },
    {
      "cell_type": "code",
      "metadata": {
        "id": "d88gg8lnCTrV",
        "colab_type": "code",
        "colab": {
          "base_uri": "https://localhost:8080/",
          "height": 36
        },
        "outputId": "6cc51bc7-8c22-4d74-8d4d-c8799fe9d085"
      },
      "source": [
        "x.shape"
      ],
      "execution_count": 18,
      "outputs": [
        {
          "output_type": "execute_result",
          "data": {
            "text/plain": [
              "(100, 100, 3)"
            ]
          },
          "metadata": {
            "tags": []
          },
          "execution_count": 18
        }
      ]
    },
    {
      "cell_type": "code",
      "metadata": {
        "id": "_BDkK5RSCTom",
        "colab_type": "code",
        "colab": {}
      },
      "source": [
        "x=x/255"
      ],
      "execution_count": 19,
      "outputs": []
    },
    {
      "cell_type": "code",
      "metadata": {
        "id": "f0m1adnlCTlv",
        "colab_type": "code",
        "colab": {
          "base_uri": "https://localhost:8080/",
          "height": 36
        },
        "outputId": "8d32eb06-de35-4ed0-ef10-edba312ae930"
      },
      "source": [
        "x=np.expand_dims(x,axis=0)\n",
        "img_data=preprocess_input(x)\n",
        "img_data.shape"
      ],
      "execution_count": 20,
      "outputs": [
        {
          "output_type": "execute_result",
          "data": {
            "text/plain": [
              "(1, 100, 100, 3)"
            ]
          },
          "metadata": {
            "tags": []
          },
          "execution_count": 20
        }
      ]
    },
    {
      "cell_type": "code",
      "metadata": {
        "id": "MlA3XNaeCbpb",
        "colab_type": "code",
        "colab": {
          "base_uri": "https://localhost:8080/",
          "height": 36
        },
        "outputId": "461d4444-bf27-4647-d224-c3c1234e9192"
      },
      "source": [
        "pred = np.argmax(model.predict(img_data), axis=1)\n",
        "pred"
      ],
      "execution_count": 21,
      "outputs": [
        {
          "output_type": "execute_result",
          "data": {
            "text/plain": [
              "array([0])"
            ]
          },
          "metadata": {
            "tags": []
          },
          "execution_count": 21
        }
      ]
    },
    {
      "cell_type": "code",
      "metadata": {
        "id": "l7lA0qdlCbmr",
        "colab_type": "code",
        "colab": {
          "base_uri": "https://localhost:8080/",
          "height": 36
        },
        "outputId": "7cc1e098-ba72-47cb-9218-e4b23a62e9f4"
      },
      "source": [
        "if(pred==1):\n",
        "    print(\"Uninfected\")\n",
        "else:\n",
        "    print(\"Infected\")"
      ],
      "execution_count": 22,
      "outputs": [
        {
          "output_type": "stream",
          "text": [
            "Infected\n"
          ],
          "name": "stdout"
        }
      ]
    },
    {
      "cell_type": "code",
      "metadata": {
        "id": "ExryqEAcCbkk",
        "colab_type": "code",
        "colab": {}
      },
      "source": [
        ""
      ],
      "execution_count": 22,
      "outputs": []
    },
    {
      "cell_type": "code",
      "metadata": {
        "id": "7iqmIydBCbis",
        "colab_type": "code",
        "colab": {}
      },
      "source": [
        ""
      ],
      "execution_count": 22,
      "outputs": []
    },
    {
      "cell_type": "code",
      "metadata": {
        "id": "cR60V6CgCbgY",
        "colab_type": "code",
        "colab": {}
      },
      "source": [
        ""
      ],
      "execution_count": 22,
      "outputs": []
    },
    {
      "cell_type": "code",
      "metadata": {
        "id": "6bMA4ms4CbeT",
        "colab_type": "code",
        "colab": {}
      },
      "source": [
        ""
      ],
      "execution_count": 22,
      "outputs": []
    },
    {
      "cell_type": "code",
      "metadata": {
        "id": "qzJiQkw-Cbb8",
        "colab_type": "code",
        "colab": {}
      },
      "source": [
        ""
      ],
      "execution_count": 22,
      "outputs": []
    }
  ]
}